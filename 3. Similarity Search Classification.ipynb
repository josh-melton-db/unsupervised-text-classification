{
 "cells": [
  {
   "cell_type": "markdown",
   "metadata": {
    "application/vnd.databricks.v1+cell": {
     "cellMetadata": {
      "byteLimit": 2048000,
      "rowLimit": 10000
     },
     "inputWidgets": {},
     "nuid": "1403174a-9232-4ba0-8983-a2b4bc25623f",
     "showTitle": false,
     "tableResultSettingsMap": {},
     "title": ""
    }
   },
   "source": [
    "Run on Serverless notebook, or on DBR 16.3 or higher"
   ]
  },
  {
   "cell_type": "code",
   "execution_count": 0,
   "metadata": {
    "application/vnd.databricks.v1+cell": {
     "cellMetadata": {
      "byteLimit": 2048000,
      "rowLimit": 10000
     },
     "inputWidgets": {},
     "nuid": "31082bb7-2e31-4ea6-9bb1-ba6f63b185da",
     "showTitle": false,
     "tableResultSettingsMap": {},
     "title": ""
    }
   },
   "outputs": [],
   "source": [
    "%pip install databricks-vectorsearch\n",
    "%restart_python"
   ]
  },
  {
   "cell_type": "code",
   "execution_count": 0,
   "metadata": {
    "application/vnd.databricks.v1+cell": {
     "cellMetadata": {
      "byteLimit": 2048000,
      "rowLimit": 10000
     },
     "inputWidgets": {},
     "nuid": "4e03dd95-b444-4f99-b6ff-a270ec4aeef2",
     "showTitle": true,
     "tableResultSettingsMap": {},
     "title": "Setup"
    }
   },
   "outputs": [],
   "source": [
    "catalog = \"main\" \n",
    "schema = \"default\" \n",
    "source_table = f\"{catalog}.{schema}.pilot_notes_supervised_classification\"\n",
    "endpoint_name = \"pilot_notes_endpoint\"\n",
    "target_table = f\"{catalog}.{schema}.pilot_notes_final_classification\"\n",
    "spark.sql(f\"USE CATALOG {catalog}\")\n",
    "spark.sql(f\"USE SCHEMA {schema}\")"
   ]
  },
  {
   "cell_type": "code",
   "execution_count": 0,
   "metadata": {
    "application/vnd.databricks.v1+cell": {
     "cellMetadata": {
      "byteLimit": 2048000,
      "rowLimit": 10000
     },
     "inputWidgets": {},
     "nuid": "d1b09f42-27ca-4ad7-8fff-1dba4bffe3d5",
     "showTitle": true,
     "tableResultSettingsMap": {},
     "title": "Create VS Endpoint"
    }
   },
   "outputs": [],
   "source": [
    "from databricks.vector_search.client import VectorSearchClient\n",
    "\n",
    "# The following line automatically generates a PAT Token for authentication when run in a Databricks notebook\n",
    "client = VectorSearchClient()\n",
    "\n",
    "# The following line uses the service principal token for authentication\n",
    "# client = VectorSearchClient(service_principal_client_id=<CLIENT_ID>,service_principal_client_secret=<CLIENT_SECRET>)\n",
    "client.create_endpoint_and_wait(\n",
    "    name=endpoint_name,\n",
    "    endpoint_type=\"STANDARD\"\n",
    ")"
   ]
  },
  {
   "cell_type": "code",
   "execution_count": 0,
   "metadata": {
    "application/vnd.databricks.v1+cell": {
     "cellMetadata": {
      "byteLimit": 2048000,
      "rowLimit": 10000
     },
     "inputWidgets": {},
     "nuid": "a23ff9c4-b447-4700-8385-14f2cbef73d4",
     "showTitle": true,
     "tableResultSettingsMap": {},
     "title": "Create VS Index"
    }
   },
   "outputs": [],
   "source": [
    "# Enable change data feed for the source table\n",
    "spark.sql(f\"ALTER TABLE {source_table} SET TBLPROPERTIES (delta.enableChangeDataFeed = true)\")\n",
    "\n",
    "# Create the delta sync index\n",
    "index = client.create_delta_sync_index_and_wait(\n",
    "  endpoint_name=endpoint_name,\n",
    "  source_table_name=source_table,\n",
    "  index_name=source_table + \"_index\",\n",
    "  pipeline_type=\"TRIGGERED\",\n",
    "  primary_key=\"id\",\n",
    "  columns_to_sync=[\"id\", \"pilot_notes\", \"unsupervised_prediction\", \"supervised_prediction\"],\n",
    "  embedding_source_column=\"pilot_notes\",\n",
    "  embedding_model_endpoint_name=\"databricks-gte-large-en\"\n",
    ")"
   ]
  },
  {
   "cell_type": "code",
   "execution_count": 0,
   "metadata": {
    "application/vnd.databricks.v1+cell": {
     "cellMetadata": {
      "byteLimit": 2048000,
      "rowLimit": 10000
     },
     "inputWidgets": {},
     "nuid": "f7692244-9d36-4aea-baa2-37feaa16904b",
     "showTitle": true,
     "tableResultSettingsMap": {},
     "title": "Create VS Function"
    }
   },
   "outputs": [],
   "source": [
    "spark.sql(f\"\"\"\n",
    "CREATE OR REPLACE FUNCTION get_similar_category(\n",
    "    query STRING COMMENT \"The string to search for similar notes to\"\n",
    ") RETURNS STRUCT<category: STRING, doc_count: STRING>\n",
    "COMMENT \"Returns the most common category related to the query\"\n",
    "RETURN (\n",
    "    SELECT STRUCT(category, doc_count)\n",
    "    FROM (\n",
    "        SELECT unsupervised_prediction as category, COUNT(*) as doc_count\n",
    "        FROM VECTOR_SEARCH(\n",
    "                index => '{source_table + '_index'}', \n",
    "                query => get_similar_category.query, \n",
    "                num_results => 10)\n",
    "        GROUP BY unsupervised_prediction\n",
    "        ORDER BY doc_count DESC\n",
    "        LIMIT 1\n",
    "    )\n",
    ")\n",
    "\"\"\")\n",
    "spark.sql(f\"SELECT get_similar_category('getting ready for landing')\").display()"
   ]
  },
  {
   "cell_type": "code",
   "execution_count": 0,
   "metadata": {
    "application/vnd.databricks.v1+cell": {
     "cellMetadata": {
      "byteLimit": 2048000,
      "rowLimit": 10000
     },
     "inputWidgets": {},
     "nuid": "cd88fc3b-e90f-4b0d-a9de-b1c7716060f0",
     "showTitle": false,
     "tableResultSettingsMap": {},
     "title": ""
    }
   },
   "outputs": [],
   "source": [
    "final_df = spark.sql(f\"\"\"\n",
    "    SELECT\n",
    "        pilot_notes, id,\n",
    "        get_similar_category(pilot_notes).category as similar_category, \n",
    "        get_similar_category(pilot_notes).doc_count as similar_doc_count\n",
    "    FROM {source_table}\n",
    "\"\"\")\n",
    "final_df.write.mode(\"overwrite\").saveAsTable(target_table)\n",
    "spark.read.table(target_table).display()"
   ]
  },
  {
   "cell_type": "code",
   "execution_count": 0,
   "metadata": {
    "application/vnd.databricks.v1+cell": {
     "cellMetadata": {
      "byteLimit": 2048000,
      "rowLimit": 10000
     },
     "inputWidgets": {},
     "nuid": "2f0a3c53-5a68-4826-88e7-4f5a048c3398",
     "showTitle": false,
     "tableResultSettingsMap": {},
     "title": ""
    }
   },
   "outputs": [],
   "source": []
  }
 ],
 "metadata": {
  "application/vnd.databricks.v1+notebook": {
   "computePreferences": null,
   "dashboards": [],
   "environmentMetadata": {
    "base_environment": "",
    "environment_version": "2"
   },
   "inputWidgetPreferences": null,
   "language": "python",
   "notebookMetadata": {
    "pythonIndentUnit": 2
   },
   "notebookName": "3. Similarity Search Classification",
   "widgets": {}
  },
  "language_info": {
   "name": "python"
  }
 },
 "nbformat": 4,
 "nbformat_minor": 0
}
